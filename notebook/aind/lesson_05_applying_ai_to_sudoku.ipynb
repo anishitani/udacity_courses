{
 "cells": [
  {
   "cell_type": "markdown",
   "metadata": {},
   "source": [
    "# Notes on solving Sudoku"
   ]
  },
  {
   "cell_type": "markdown",
   "metadata": {},
   "source": [
    "We'll represent the sudoku board state in two different ways.\n",
    "\n",
    "- As a `string` where the row `i` and column `j` is the position $9*i+j$.\n",
    "```\n",
    "    '..3.2.6..9..3.5..1..18.64....81.29..7.......8..67.82....26.95..8..2.3..9..5.1.3..'\n",
    "```\n",
    "- As a dictionary where the key represented by the `row = 'ABCDEFGHI'` and `column = '123456789'` and our full representation looks like:\n",
    "```\n",
    "    {\n",
    "      'A1': '.'\n",
    "      'A2': '.',\n",
    "      'A3': '3',\n",
    "      'A4': '.',\n",
    "      'A5': '2',\n",
    "      ...\n",
    "      'I9': '.'\n",
    "    }\n",
    "```"
   ]
  },
  {
   "cell_type": "markdown",
   "metadata": {},
   "source": [
    "### Dictionary\n",
    "\n",
    "For the dictionary representation we'll define `rows` and `columns` as follows:"
   ]
  },
  {
   "cell_type": "code",
   "execution_count": 5,
   "metadata": {},
   "outputs": [],
   "source": [
    "rows = 'ABCDEFGHI'\n",
    "cols = '123456789'"
   ]
  },
  {
   "cell_type": "markdown",
   "metadata": {},
   "source": [
    "We'll also define a support method to do an all to all match between two arrays."
   ]
  },
  {
   "cell_type": "code",
   "execution_count": 6,
   "metadata": {},
   "outputs": [],
   "source": [
    "def cross(a,b):\n",
    "    return [s+t for s in a for t in b]"
   ]
  },
  {
   "cell_type": "markdown",
   "metadata": {},
   "source": [
    "And the `boxes`, which are the positions in the sudoku board, are represented as:"
   ]
  },
  {
   "cell_type": "code",
   "execution_count": 7,
   "metadata": {},
   "outputs": [
    {
     "data": {
      "text/plain": [
       "['A1',\n",
       " 'A2',\n",
       " 'A3',\n",
       " 'A4',\n",
       " 'A5',\n",
       " 'A6',\n",
       " 'A7',\n",
       " 'A8',\n",
       " 'A9',\n",
       " 'B1',\n",
       " 'B2',\n",
       " 'B3',\n",
       " 'B4',\n",
       " 'B5',\n",
       " 'B6',\n",
       " 'B7',\n",
       " 'B8',\n",
       " 'B9',\n",
       " 'C1',\n",
       " 'C2',\n",
       " 'C3',\n",
       " 'C4',\n",
       " 'C5',\n",
       " 'C6',\n",
       " 'C7',\n",
       " 'C8',\n",
       " 'C9',\n",
       " 'D1',\n",
       " 'D2',\n",
       " 'D3',\n",
       " 'D4',\n",
       " 'D5',\n",
       " 'D6',\n",
       " 'D7',\n",
       " 'D8',\n",
       " 'D9',\n",
       " 'E1',\n",
       " 'E2',\n",
       " 'E3',\n",
       " 'E4',\n",
       " 'E5',\n",
       " 'E6',\n",
       " 'E7',\n",
       " 'E8',\n",
       " 'E9',\n",
       " 'F1',\n",
       " 'F2',\n",
       " 'F3',\n",
       " 'F4',\n",
       " 'F5',\n",
       " 'F6',\n",
       " 'F7',\n",
       " 'F8',\n",
       " 'F9',\n",
       " 'G1',\n",
       " 'G2',\n",
       " 'G3',\n",
       " 'G4',\n",
       " 'G5',\n",
       " 'G6',\n",
       " 'G7',\n",
       " 'G8',\n",
       " 'G9',\n",
       " 'H1',\n",
       " 'H2',\n",
       " 'H3',\n",
       " 'H4',\n",
       " 'H5',\n",
       " 'H6',\n",
       " 'H7',\n",
       " 'H8',\n",
       " 'H9',\n",
       " 'I1',\n",
       " 'I2',\n",
       " 'I3',\n",
       " 'I4',\n",
       " 'I5',\n",
       " 'I6',\n",
       " 'I7',\n",
       " 'I8',\n",
       " 'I9']"
      ]
     },
     "execution_count": 7,
     "metadata": {},
     "output_type": "execute_result"
    }
   ],
   "source": [
    "boxes = cross(rows, cols)\n",
    "boxes"
   ]
  },
  {
   "cell_type": "markdown",
   "metadata": {},
   "source": [
    "Now we'll define `unit` as the set of `boxes` that interact either in rows, columns or block.\n",
    "All the blocks in a row are contained in the same `unit`, therefore:"
   ]
  },
  {
   "cell_type": "code",
   "execution_count": 8,
   "metadata": {},
   "outputs": [
    {
     "data": {
      "text/plain": [
       "[['A1', 'A2', 'A3', 'A4', 'A5', 'A6', 'A7', 'A8', 'A9'],\n",
       " ['B1', 'B2', 'B3', 'B4', 'B5', 'B6', 'B7', 'B8', 'B9'],\n",
       " ['C1', 'C2', 'C3', 'C4', 'C5', 'C6', 'C7', 'C8', 'C9'],\n",
       " ['D1', 'D2', 'D3', 'D4', 'D5', 'D6', 'D7', 'D8', 'D9'],\n",
       " ['E1', 'E2', 'E3', 'E4', 'E5', 'E6', 'E7', 'E8', 'E9'],\n",
       " ['F1', 'F2', 'F3', 'F4', 'F5', 'F6', 'F7', 'F8', 'F9'],\n",
       " ['G1', 'G2', 'G3', 'G4', 'G5', 'G6', 'G7', 'G8', 'G9'],\n",
       " ['H1', 'H2', 'H3', 'H4', 'H5', 'H6', 'H7', 'H8', 'H9'],\n",
       " ['I1', 'I2', 'I3', 'I4', 'I5', 'I6', 'I7', 'I8', 'I9']]"
      ]
     },
     "execution_count": 8,
     "metadata": {},
     "output_type": "execute_result"
    }
   ],
   "source": [
    "row_units = [cross(r, cols) for r in rows]\n",
    "row_units"
   ]
  },
  {
   "cell_type": "markdown",
   "metadata": {},
   "source": [
    "Similar for columns:"
   ]
  },
  {
   "cell_type": "code",
   "execution_count": 9,
   "metadata": {},
   "outputs": [
    {
     "data": {
      "text/plain": [
       "[['A1', 'B1', 'C1', 'D1', 'E1', 'F1', 'G1', 'H1', 'I1'],\n",
       " ['A2', 'B2', 'C2', 'D2', 'E2', 'F2', 'G2', 'H2', 'I2'],\n",
       " ['A3', 'B3', 'C3', 'D3', 'E3', 'F3', 'G3', 'H3', 'I3'],\n",
       " ['A4', 'B4', 'C4', 'D4', 'E4', 'F4', 'G4', 'H4', 'I4'],\n",
       " ['A5', 'B5', 'C5', 'D5', 'E5', 'F5', 'G5', 'H5', 'I5'],\n",
       " ['A6', 'B6', 'C6', 'D6', 'E6', 'F6', 'G6', 'H6', 'I6'],\n",
       " ['A7', 'B7', 'C7', 'D7', 'E7', 'F7', 'G7', 'H7', 'I7'],\n",
       " ['A8', 'B8', 'C8', 'D8', 'E8', 'F8', 'G8', 'H8', 'I8'],\n",
       " ['A9', 'B9', 'C9', 'D9', 'E9', 'F9', 'G9', 'H9', 'I9']]"
      ]
     },
     "execution_count": 9,
     "metadata": {},
     "output_type": "execute_result"
    }
   ],
   "source": [
    "column_units = [cross(rows, c) for c in cols]\n",
    "column_units"
   ]
  },
  {
   "cell_type": "markdown",
   "metadata": {},
   "source": [
    "All that's left are the `boxes` in the same `block`: "
   ]
  },
  {
   "cell_type": "code",
   "execution_count": 10,
   "metadata": {},
   "outputs": [
    {
     "data": {
      "text/plain": [
       "[['A1', 'A2', 'A3', 'B1', 'B2', 'B3', 'C1', 'C2', 'C3'],\n",
       " ['A4', 'A5', 'A6', 'B4', 'B5', 'B6', 'C4', 'C5', 'C6'],\n",
       " ['A7', 'A8', 'A9', 'B7', 'B8', 'B9', 'C7', 'C8', 'C9'],\n",
       " ['D1', 'D2', 'D3', 'E1', 'E2', 'E3', 'F1', 'F2', 'F3'],\n",
       " ['D4', 'D5', 'D6', 'E4', 'E5', 'E6', 'F4', 'F5', 'F6'],\n",
       " ['D7', 'D8', 'D9', 'E7', 'E8', 'E9', 'F7', 'F8', 'F9'],\n",
       " ['G1', 'G2', 'G3', 'H1', 'H2', 'H3', 'I1', 'I2', 'I3'],\n",
       " ['G4', 'G5', 'G6', 'H4', 'H5', 'H6', 'I4', 'I5', 'I6'],\n",
       " ['G7', 'G8', 'G9', 'H7', 'H8', 'H9', 'I7', 'I8', 'I9']]"
      ]
     },
     "execution_count": 10,
     "metadata": {},
     "output_type": "execute_result"
    }
   ],
   "source": [
    "square_units = [cross(rs, cs) for rs in ('ABC','DEF','GHI') for cs in ('123','456','789')]\n",
    "square_units"
   ]
  },
  {
   "cell_type": "markdown",
   "metadata": {},
   "source": [
    "All the sets are aggregated in a single list.\n",
    "Note that there are repeated blocks for any unit."
   ]
  },
  {
   "cell_type": "code",
   "execution_count": 11,
   "metadata": {},
   "outputs": [
    {
     "data": {
      "text/plain": [
       "[['A1', 'A2', 'A3', 'A4', 'A5', 'A6', 'A7', 'A8', 'A9'],\n",
       " ['B1', 'B2', 'B3', 'B4', 'B5', 'B6', 'B7', 'B8', 'B9'],\n",
       " ['C1', 'C2', 'C3', 'C4', 'C5', 'C6', 'C7', 'C8', 'C9'],\n",
       " ['D1', 'D2', 'D3', 'D4', 'D5', 'D6', 'D7', 'D8', 'D9'],\n",
       " ['E1', 'E2', 'E3', 'E4', 'E5', 'E6', 'E7', 'E8', 'E9'],\n",
       " ['F1', 'F2', 'F3', 'F4', 'F5', 'F6', 'F7', 'F8', 'F9'],\n",
       " ['G1', 'G2', 'G3', 'G4', 'G5', 'G6', 'G7', 'G8', 'G9'],\n",
       " ['H1', 'H2', 'H3', 'H4', 'H5', 'H6', 'H7', 'H8', 'H9'],\n",
       " ['I1', 'I2', 'I3', 'I4', 'I5', 'I6', 'I7', 'I8', 'I9'],\n",
       " ['A1', 'B1', 'C1', 'D1', 'E1', 'F1', 'G1', 'H1', 'I1'],\n",
       " ['A2', 'B2', 'C2', 'D2', 'E2', 'F2', 'G2', 'H2', 'I2'],\n",
       " ['A3', 'B3', 'C3', 'D3', 'E3', 'F3', 'G3', 'H3', 'I3'],\n",
       " ['A4', 'B4', 'C4', 'D4', 'E4', 'F4', 'G4', 'H4', 'I4'],\n",
       " ['A5', 'B5', 'C5', 'D5', 'E5', 'F5', 'G5', 'H5', 'I5'],\n",
       " ['A6', 'B6', 'C6', 'D6', 'E6', 'F6', 'G6', 'H6', 'I6'],\n",
       " ['A7', 'B7', 'C7', 'D7', 'E7', 'F7', 'G7', 'H7', 'I7'],\n",
       " ['A8', 'B8', 'C8', 'D8', 'E8', 'F8', 'G8', 'H8', 'I8'],\n",
       " ['A9', 'B9', 'C9', 'D9', 'E9', 'F9', 'G9', 'H9', 'I9'],\n",
       " ['A1', 'A2', 'A3', 'B1', 'B2', 'B3', 'C1', 'C2', 'C3'],\n",
       " ['A4', 'A5', 'A6', 'B4', 'B5', 'B6', 'C4', 'C5', 'C6'],\n",
       " ['A7', 'A8', 'A9', 'B7', 'B8', 'B9', 'C7', 'C8', 'C9'],\n",
       " ['D1', 'D2', 'D3', 'E1', 'E2', 'E3', 'F1', 'F2', 'F3'],\n",
       " ['D4', 'D5', 'D6', 'E4', 'E5', 'E6', 'F4', 'F5', 'F6'],\n",
       " ['D7', 'D8', 'D9', 'E7', 'E8', 'E9', 'F7', 'F8', 'F9'],\n",
       " ['G1', 'G2', 'G3', 'H1', 'H2', 'H3', 'I1', 'I2', 'I3'],\n",
       " ['G4', 'G5', 'G6', 'H4', 'H5', 'H6', 'I4', 'I5', 'I6'],\n",
       " ['G7', 'G8', 'G9', 'H7', 'H8', 'H9', 'I7', 'I8', 'I9']]"
      ]
     },
     "execution_count": 11,
     "metadata": {},
     "output_type": "execute_result"
    }
   ],
   "source": [
    "unitlist = row_units + column_units + square_units\n",
    "unitlist"
   ]
  },
  {
   "cell_type": "markdown",
   "metadata": {},
   "source": [
    "### String conversion to Dictionary\n",
    "\n",
    "The `string` representation is already a final view of the board.\n",
    "We'll now cast this `string` to a dictionary representing the board.\n",
    "\n",
    "First we'll define a method for showing the board on the screen."
   ]
  },
  {
   "cell_type": "code",
   "execution_count": 12,
   "metadata": {},
   "outputs": [],
   "source": [
    "def display(values):\n",
    "    \"\"\"\n",
    "    Display the values as a 2-D grid.\n",
    "    Input: The sudoku in dictionary form\n",
    "    Output: None\n",
    "    \"\"\"\n",
    "    width = 1+max(len(values[s]) for s in boxes)\n",
    "    line = '+'.join(['-'*(width*3)]*3)\n",
    "    for r in rows:\n",
    "        print(''.join(values[r+c].center(width)+('|' if c in '36' else '')\n",
    "                      for c in cols))\n",
    "        if r in 'CF': print(line)\n",
    "    return\n"
   ]
  },
  {
   "cell_type": "markdown",
   "metadata": {},
   "source": [
    "Then we define the `grid_values()` method:"
   ]
  },
  {
   "cell_type": "code",
   "execution_count": 13,
   "metadata": {},
   "outputs": [],
   "source": [
    "def grid_values(grid):\n",
    "    \"\"\"Convert grid string into {<box>: <value>} dict with '.' value for empties.\n",
    "\n",
    "    Args:\n",
    "        grid: Sudoku grid in string form, 81 characters long\n",
    "    Returns:\n",
    "        Sudoku grid in dictionary form:\n",
    "        - keys: Box labels, e.g. 'A1'\n",
    "        - values: Value in corresponding box, e.g. '8', or '.' if it is empty.\n",
    "    \"\"\"\n",
    "    assert len(grid) == 81\n",
    "    return dict(zip( boxes, grid ))\n",
    "    pass"
   ]
  },
  {
   "cell_type": "markdown",
   "metadata": {},
   "source": [
    "And the result is:"
   ]
  },
  {
   "cell_type": "code",
   "execution_count": 14,
   "metadata": {},
   "outputs": [
    {
     "name": "stdout",
     "output_type": "stream",
     "text": [
      ". . 3 |. 2 . |6 . . \n",
      "9 . . |3 . 5 |. . 1 \n",
      ". . 1 |8 . 6 |4 . . \n",
      "------+------+------\n",
      ". . 8 |1 . 2 |9 . . \n",
      "7 . . |. . . |. . 8 \n",
      ". . 6 |7 . 8 |2 . . \n",
      "------+------+------\n",
      ". . 2 |6 . 9 |5 . . \n",
      "8 . . |2 . 3 |. . 9 \n",
      ". . 5 |. 1 . |3 . . \n"
     ]
    }
   ],
   "source": [
    "grid = '..3.2.6..9..3.5..1..18.64....81.29..7.......8..67.82....26.95..8..2.3..9..5.1.3..'\n",
    "display(grid_values( grid ))"
   ]
  },
  {
   "cell_type": "markdown",
   "metadata": {},
   "source": [
    "# Elimination\n",
    "\n",
    "The elimination techinique  lists all possibles for a given `block` and comparing against it's `unit` eliminates the impossible solutions."
   ]
  },
  {
   "cell_type": "code",
   "execution_count": 15,
   "metadata": {},
   "outputs": [
    {
     "data": {
      "text/html": [
       "<iframe width=\"854\" height=\"480\" src=\"https://www.youtube.com/embed/6rFOX2jHB2g\" frameborder=\"0\" gesture=\"media\" allow=\"encrypted-media\" allowfullscreen></iframe>"
      ],
      "text/plain": [
       "<IPython.core.display.HTML object>"
      ]
     },
     "execution_count": 15,
     "metadata": {},
     "output_type": "execute_result"
    }
   ],
   "source": [
    "from IPython.display import HTML\n",
    "HTML('<iframe width=\"854\" height=\"480\" src=\"https://www.youtube.com/embed/6rFOX2jHB2g\" frameborder=\"0\" gesture=\"media\" allow=\"encrypted-media\" allowfullscreen></iframe>')"
   ]
  },
  {
   "cell_type": "markdown",
   "metadata": {},
   "source": [
    "So let's implement the method of elimination described above.\n",
    "\n",
    "First, let's improve the `grid_values()` by filling the empty `blocks` with the possible values for the `block`."
   ]
  },
  {
   "cell_type": "code",
   "execution_count": 16,
   "metadata": {},
   "outputs": [],
   "source": [
    "def grid_values(grid):\n",
    "    \"\"\"Convert grid string into {<box>: <value>} dict with '.' value for empties.\n",
    "\n",
    "    Args:\n",
    "        grid: Sudoku grid in string form, 81 characters long\n",
    "    Returns:\n",
    "        Sudoku grid in dictionary form:\n",
    "        - keys: Box labels, e.g. 'A1'\n",
    "        - values: Value in corresponding box, e.g. '8', or '.' if it is empty.\n",
    "    \"\"\"\n",
    "    assert len(grid) == 81\n",
    "    board = dict(zip( boxes, grid ))    \n",
    "    for box in boxes:\n",
    "        if board[box] == '.':\n",
    "            board[box] = cols    \n",
    "    return board\n",
    "    pass"
   ]
  },
  {
   "cell_type": "code",
   "execution_count": 17,
   "metadata": {},
   "outputs": [
    {
     "name": "stdout",
     "output_type": "stream",
     "text": [
      "123456789 123456789     3     |123456789     2     123456789 |    6     123456789 123456789 \n",
      "    9     123456789 123456789 |    3     123456789     5     |123456789 123456789     1     \n",
      "123456789 123456789     1     |    8     123456789     6     |    4     123456789 123456789 \n",
      "------------------------------+------------------------------+------------------------------\n",
      "123456789 123456789     8     |    1     123456789     2     |    9     123456789 123456789 \n",
      "    7     123456789 123456789 |123456789 123456789 123456789 |123456789 123456789     8     \n",
      "123456789 123456789     6     |    7     123456789     8     |    2     123456789 123456789 \n",
      "------------------------------+------------------------------+------------------------------\n",
      "123456789 123456789     2     |    6     123456789     9     |    5     123456789 123456789 \n",
      "    8     123456789 123456789 |    2     123456789     3     |123456789 123456789     9     \n",
      "123456789 123456789     5     |123456789     1     123456789 |    3     123456789 123456789 \n"
     ]
    }
   ],
   "source": [
    "grid = '..3.2.6..9..3.5..1..18.64....81.29..7.......8..67.82....26.95..8..2.3..9..5.1.3..'\n",
    "display(grid_values( grid ))"
   ]
  },
  {
   "cell_type": "markdown",
   "metadata": {},
   "source": [
    "Now that we have the grid and the options, let's implement the `eliminate()` method."
   ]
  },
  {
   "cell_type": "code",
   "execution_count": 18,
   "metadata": {},
   "outputs": [
    {
     "name": "stdout",
     "output_type": "stream",
     "text": [
      "123456789 123456789     3     |123456789     2     123456789 |    6     123456789 123456789 \n",
      "    9     123456789 123456789 |    3     123456789     5     |123456789 123456789     1     \n",
      "123456789 123456789     1     |    8     123456789     6     |    4     123456789 123456789 \n",
      "------------------------------+------------------------------+------------------------------\n",
      "123456789 123456789     8     |    1     123456789     2     |    9     123456789 123456789 \n",
      "    7     123456789 123456789 |123456789 123456789 123456789 |123456789 123456789     8     \n",
      "123456789 123456789     6     |    7     123456789     8     |    2     123456789 123456789 \n",
      "------------------------------+------------------------------+------------------------------\n",
      "123456789 123456789     2     |    6     123456789     9     |    5     123456789 123456789 \n",
      "    8     123456789 123456789 |    2     123456789     3     |123456789 123456789     9     \n",
      "123456789 123456789     5     |123456789     1     123456789 |    3     123456789 123456789 \n",
      "\n",
      "   45    4578    3   |   49     2     147  |   6     5789    57  \n",
      "   9    24678    47  |   3      47     5   |   78    278     1   \n",
      "   25    257     1   |   8      79     6   |   4    23579   2357 \n",
      "---------------------+---------------------+---------------------\n",
      "  345    345     8   |   1     3456    2   |   9    34567  34567 \n",
      "   7    123459   49  |  459   34569    4   |   1    13456    8   \n",
      "  1345  13459    6   |   7     3459    8   |   2     1345   345  \n",
      "---------------------+---------------------+---------------------\n",
      "  134    1347    2   |   6     478     9   |   5     1478    47  \n",
      "   8     1467    47  |   2     457     3   |   17    1467    9   \n",
      "   46    4679    5   |   4      1      47  |   3    24678   2467 \n"
     ]
    }
   ],
   "source": [
    "def eliminate(values):\n",
    "    \"\"\"Eliminate values from peers of each box with a single value.\n",
    "\n",
    "    Go through all the boxes, and whenever there is a box with a single value,\n",
    "    eliminate this value from the set of values of all its peers.\n",
    "\n",
    "    Args:\n",
    "        values: Sudoku in dictionary form.\n",
    "    Returns:\n",
    "        Resulting Sudoku in dictionary form after eliminating values.\n",
    "    \"\"\"\n",
    "    solved = list(filter(lambda box: len(values[box])<2, boxes))\n",
    "    for box in solved:\n",
    "        if len(values[box])==1:\n",
    "            for unit in unitlist:\n",
    "                if box in unit:\n",
    "                    for checkBox in unit:\n",
    "                        if checkBox != box:\n",
    "                            values[checkBox] = values[checkBox].replace(values[box],'')\n",
    "    return values\n",
    "    pass\n",
    "\n",
    "grid = '..3.2.6..9..3.5..1..18.64....81.29..7.......8..67.82....26.95..8..2.3..9..5.1.3..'\n",
    "display(grid_values(grid))\n",
    "print ('')\n",
    "display(eliminate(grid_values(grid)))"
   ]
  },
  {
   "cell_type": "markdown",
   "metadata": {},
   "source": [
    "# Only Choice\n",
    "\n",
    "The Only Choice technique will test a `box` not solved againts the other unsolved `boxes` in the same `unit`.\n",
    "If the box is has a value that is the only choice."
   ]
  },
  {
   "cell_type": "code",
   "execution_count": 19,
   "metadata": {},
   "outputs": [
    {
     "data": {
      "text/html": [
       "<iframe width=\"854\" height=\"480\" src=\"https://www.youtube.com/embed/sSjYn-Kex1A\" frameborder=\"0\" gesture=\"media\" allow=\"encrypted-media\" allowfullscreen></iframe>"
      ],
      "text/plain": [
       "<IPython.core.display.HTML object>"
      ]
     },
     "execution_count": 19,
     "metadata": {},
     "output_type": "execute_result"
    }
   ],
   "source": [
    "from IPython.display import HTML\n",
    "HTML('<iframe width=\"854\" height=\"480\" src=\"https://www.youtube.com/embed/sSjYn-Kex1A\" frameborder=\"0\" gesture=\"media\" allow=\"encrypted-media\" allowfullscreen></iframe>')"
   ]
  },
  {
   "cell_type": "markdown",
   "metadata": {},
   "source": [
    " Let's, then, implement the `only_choice()` algorithm."
   ]
  },
  {
   "cell_type": "code",
   "execution_count": 20,
   "metadata": {},
   "outputs": [
    {
     "name": "stdout",
     "output_type": "stream",
     "text": [
      "  45    8     3   |  49    2     1   |  6    5789   57  \n",
      "  9     6     47  |  3     47    5   |  8     2     1   \n",
      "  2    257    1   |  8     79    6   |  4   23579  2357 \n",
      "------------------+------------------+------------------\n",
      " 345   345    8   |  1    3456   2   |  9     7     6   \n",
      "  7     2     9   |  5   34569   4   |  1   13456   8   \n",
      " 1345 13459   6   |  7    3459   8   |  2    1345  345  \n",
      "------------------+------------------+------------------\n",
      " 134   1347   2   |  6     8     9   |  5    1478   47  \n",
      "  8    1467   47  |  2     5     3   |  7     6     9   \n",
      "  6     9     5   |  4     1     7   |  3     8     2   \n",
      "\n",
      "  45    8     3   |  49    2     1   |  6    5789   57  \n",
      "  9     6     47  |  3     47    5   |  8     2     1   \n",
      "  2    257    1   |  8     79    6   |  4   23579  2357 \n",
      "------------------+------------------+------------------\n",
      " 345   345    8   |  1    3456   2   |  9     7     6   \n",
      "  7     2     9   |  5   34569   4   |  1   13456   8   \n",
      " 1345 13459   6   |  7    3459   8   |  2    1345  345  \n",
      "------------------+------------------+------------------\n",
      " 134   1347   2   |  6     8     9   |  5    1478   47  \n",
      "  8    1467   47  |  2     5     3   |  7     6     9   \n",
      "  6     9     5   |  4     1     7   |  3     8     2   \n",
      "\n",
      "  4     8     3   |  9     2     1   |  6    5789   57  \n",
      "  9     6     7   |  3     4     5   |  8     2     1   \n",
      "  2     5     1   |  8     7     6   |  4   23579  2357 \n",
      "------------------+------------------+------------------\n",
      " 345   345    8   |  1    3456   2   |  9     7     6   \n",
      "  7     2     9   |  5   34569   4   |  1   13456   8   \n",
      " 1345 13459   6   |  7    3459   8   |  2    1345  345  \n",
      "------------------+------------------+------------------\n",
      " 134    7     2   |  6     8     9   |  5     1     4   \n",
      "  8     1     4   |  2     5     3   |  7     6     9   \n",
      "  6     9     5   |  4     1     7   |  3     8     2   \n",
      "\n",
      "  4     8     3   |  9     2     1   |  6     5     7   \n",
      "  9     6     7   |  3     4     5   |  8     2     1   \n",
      "  2     5     1   |  8     7     6   |  4     9     3   \n",
      "------------------+------------------+------------------\n",
      " 345   345    8   |  1    3456   2   |  9     7     6   \n",
      "  7     2     9   |  5   34569   4   |  1   13456   8   \n",
      "  1   13459   6   |  7    3459   8   |  2    1345   5   \n",
      "------------------+------------------+------------------\n",
      "  3     7     2   |  6     8     9   |  5     1     4   \n",
      "  8     1     4   |  2     5     3   |  7     6     9   \n",
      "  6     9     5   |  4     1     7   |  3     8     2   \n",
      "\n",
      "  4     8     3   |  9     2     1   |  6     5     7   \n",
      "  9     6     7   |  3     4     5   |  8     2     1   \n",
      "  2     5     1   |  8     7     6   |  4     9     3   \n",
      "------------------+------------------+------------------\n",
      "  5    345    8   |  1    3456   2   |  9     7     6   \n",
      "  7     2     9   |  5   34569   4   |  1   13456   8   \n",
      "  1   13459   6   |  7    3459   8   |  2    1345   5   \n",
      "------------------+------------------+------------------\n",
      "  3     7     2   |  6     8     9   |  5     1     4   \n",
      "  8     1     4   |  2     5     3   |  7     6     9   \n",
      "  6     9     5   |  4     1     7   |  3     8     2   \n",
      "\n",
      "  4     8     3   |  9     2     1   |  6     5     7   \n",
      "  9     6     7   |  3     4     5   |  8     2     1   \n",
      "  2     5     1   |  8     7     6   |  4     9     3   \n",
      "------------------+------------------+------------------\n",
      "  5    345    8   |  1    3456   2   |  9     7     6   \n",
      "  7     2     9   |  5   34569   4   |  1   13456   8   \n",
      "  1   13459   6   |  7    3459   8   |  2    1345   5   \n",
      "------------------+------------------+------------------\n",
      "  3     7     2   |  6     8     9   |  5     1     4   \n",
      "  8     1     4   |  2     5     3   |  7     6     9   \n",
      "  6     9     5   |  4     1     7   |  3     8     2   \n",
      "\n"
     ]
    }
   ],
   "source": [
    "def only_choice(values):\n",
    "    \"\"\"Finalize all values that are the only choice for a unit.\n",
    "\n",
    "    Go through all the units, and whenever there is a unit with a value\n",
    "    that only fits in one box, assign the value to this box.\n",
    "\n",
    "    Input: Sudoku in dictionary form.\n",
    "    Output: Resulting Sudoku in dictionary form after filling in only choices.\n",
    "    \"\"\"\n",
    "    for unit in unitlist:\n",
    "        for key in unit:\n",
    "            if len(values[key])>1:\n",
    "                s = set(values[key])\n",
    "                for diff in unit:\n",
    "                    if diff!=key:\n",
    "                        s = s-set(values[diff])\n",
    "                if len(s)==1:\n",
    "                    values[key] = s.pop()\n",
    "    return values\n",
    "    pass\n",
    "\n",
    "for values in [{'D5': '3456', 'G1': '134', 'I7': '3', 'D8': '34567', 'F8': '1345', 'H5': '457', 'H1': '8', 'B5': '47', 'E8': '13456', 'D6': '2', 'H2': '1467', 'E5': '34569', 'E9': '8', 'H9': '9', 'G8': '1478', 'H7': '17', 'D4': '1', 'F7': '2', 'E3': '49', 'B4': '3', 'A8': '5789', 'G6': '9', 'D3': '8', 'B9': '1', 'C8': '23579', 'D7': '9', 'C7': '4', 'C1': '25', 'A7': '6', 'A2': '4578', 'B8': '278', 'D1': '345', 'G9': '47', 'B2': '24678', 'G5': '478', 'I3': '5', 'I1': '46', 'F6': '8', 'A5': '2', 'A3': '3', 'I2': '4679', 'I4': '4', 'D2': '345', 'C3': '1', 'G4': '6', 'C2': '257', 'I9': '2467', 'G3': '2', 'H6': '3', 'I5': '1', 'C6': '6', 'E1': '7', 'C5': '79', 'A9': '57', 'E4': '459', 'H4': '2', 'G2': '1347', 'F4': '7', 'A6': '147', 'H8': '1467', 'B1': '9', 'F9': '345', 'A4': '49', 'A1': '45', 'H3': '47', 'G7': '5', 'I8': '24678', 'B6': '5', 'C4': '8', 'E7': '1', 'C9': '2357', 'F3': '6', 'F5': '3459', 'F2': '13459', 'E6': '4', 'B3': '47', 'D9': '34567', 'F1': '1345', 'E2': '123459', 'I6': '47', 'B7': '78'},\\\n",
    "               {'B9': '1', 'G1': '134', 'D6': '2', 'F5': '3459', 'A6': '147', 'H2': '1467', 'D3': '8', 'F7': '2', 'E8': '13456', 'D9': '34567', 'C1': '25', 'E6': '4', 'E4': '459', 'I2': '4679', 'C2': '257', 'G4': '6', 'I4': '4', 'G6': '9', 'A5': '2', 'G3': '2', 'D7': '9', 'E3': '49', 'D5': '3456', 'H5': '457', 'E1': '7', 'B3': '47', 'I5': '1', 'B6': '5', 'H4': '2', 'C3': '1', 'D2': '345', 'H3': '47', 'I7': '3', 'H9': '9', 'C9': '2357', 'E7': '1', 'A7': '6', 'F6': '8', 'I6': '47', 'A3': '3', 'F3': '6', 'F2': '13459', 'B1': '9', 'H1': '8', 'C7': '4', 'A8': '5789', 'I3': '5', 'H7': '17', 'D8': '34567', 'E9': '8', 'G8': '1478', 'H8': '1467', 'G9': '47', 'A4': '49', 'A9': '57', 'C5': '79', 'G5': '478', 'B7': '78', 'B2': '24678', 'F9': '345', 'I1': '46', 'C6': '6', 'A2': '4578', 'F4': '7', 'G7': '5', 'D1': '345', 'G2': '1347', 'F1': '1345', 'I9': '2467', 'H6': '3', 'I8': '24678', 'E5': '34569', 'B4': '3', 'B5': '47', 'A1': '45', 'C4': '8', 'F8': '1345', 'E2': '123459', 'B8': '278', 'D4': '1', 'C8': '23579'},\\\n",
    "               {'B9': '1', 'G1': '134', 'D6': '2', 'F5': '3459', 'A6': '1', 'H2': '1467', 'D3': '8', 'F7': '2', 'E8': '13456', 'D9': '6', 'C1': '2', 'E6': '4', 'E4': '5', 'I2': '9', 'C2': '257', 'G4': '6', 'I4': '4', 'G6': '9', 'A5': '2', 'G3': '2', 'D7': '9', 'E3': '9', 'D5': '3456', 'H5': '5', 'E1': '7', 'B3': '47', 'I5': '1', 'B6': '5', 'H4': '2', 'C3': '1', 'D2': '345', 'H3': '47', 'I7': '3', 'H9': '9', 'C9': '2357', 'E7': '1', 'A7': '6', 'F6': '8', 'I6': '7', 'A3': '3', 'F3': '6', 'F2': '13459', 'B1': '9', 'H1': '8', 'C7': '4', 'A8': '5789', 'I3': '5', 'H7': '7', 'D8': '7', 'E9': '8', 'G8': '1478', 'H8': '6', 'G9': '47', 'A4': '49', 'A9': '57', 'C5': '79', 'G5': '8', 'B7': '8', 'B2': '6', 'F9': '345', 'I1': '6', 'C6': '6', 'A2': '8', 'F4': '7', 'G7': '5', 'D1': '345', 'G2': '1347', 'F1': '1345', 'I9': '2', 'H6': '3', 'I8': '8', 'E5': '34569', 'B4': '3', 'B5': '47', 'A1': '45', 'C4': '8', 'F8': '1345', 'E2': '2', 'B8': '2', 'D4': '1', 'C8': '23579'},\\\n",
    "               {'B9': '1', 'G1': '134', 'D6': '2', 'F5': '3459', 'A6': '1', 'H2': '1', 'D3': '8', 'F7': '2', 'E8': '13456', 'D9': '6', 'C1': '2', 'E6': '4', 'E4': '5', 'I2': '9', 'C2': '5', 'G4': '6', 'I4': '4', 'G6': '9', 'A5': '2', 'G3': '2', 'D7': '9', 'E3': '9', 'D5': '3456', 'H5': '5', 'E1': '7', 'B3': '7', 'I5': '1', 'B6': '5', 'H4': '2', 'C3': '1', 'D2': '345', 'H3': '4', 'I7': '3', 'H9': '9', 'C9': '2357', 'E7': '1', 'A7': '6', 'F6': '8', 'I6': '7', 'A3': '3', 'F3': '6', 'F2': '13459', 'B1': '9', 'H1': '8', 'C7': '4', 'A8': '5789', 'I3': '5', 'H7': '7', 'D8': '7', 'E9': '8', 'G8': '1', 'H8': '6', 'G9': '4', 'A4': '9', 'A9': '57', 'C5': '7', 'G5': '8', 'B7': '8', 'B2': '6', 'F9': '345', 'I1': '6', 'C6': '6', 'A2': '8', 'F4': '7', 'G7': '5', 'D1': '345', 'G2': '7', 'F1': '1345', 'I9': '2', 'H6': '3', 'I8': '8', 'E5': '34569', 'B4': '3', 'B5': '4', 'A1': '4', 'C4': '8', 'F8': '1345', 'E2': '2', 'B8': '2', 'D4': '1', 'C8': '23579'},\\\n",
    "               {'B9': '1', 'G1': '3', 'D6': '2', 'F5': '3459', 'A6': '1', 'H2': '1', 'D3': '8', 'F7': '2', 'E8': '13456', 'D9': '6', 'C1': '2', 'E6': '4', 'E4': '5', 'I2': '9', 'C2': '5', 'G4': '6', 'I4': '4', 'G6': '9', 'A5': '2', 'G3': '2', 'D7': '9', 'E3': '9', 'D5': '3456', 'H5': '5', 'E1': '7', 'B3': '7', 'I5': '1', 'B6': '5', 'H4': '2', 'C3': '1', 'D2': '345', 'H3': '4', 'I7': '3', 'H9': '9', 'C9': '3', 'E7': '1', 'A7': '6', 'F6': '8', 'I6': '7', 'A3': '3', 'F3': '6', 'F2': '13459', 'B1': '9', 'H1': '8', 'C7': '4', 'A8': '5', 'I3': '5', 'H7': '7', 'D8': '7', 'E9': '8', 'G8': '1', 'H8': '6', 'G9': '4', 'A4': '9', 'A9': '7', 'C5': '7', 'G5': '8', 'B7': '8', 'B2': '6', 'F9': '5', 'I1': '6', 'C6': '6', 'A2': '8', 'F4': '7', 'G7': '5', 'D1': '345', 'G2': '7', 'F1': '1', 'I9': '2', 'H6': '3', 'I8': '8', 'E5': '34569', 'B4': '3', 'B5': '4', 'A1': '4', 'C4': '8', 'F8': '1345', 'E2': '2', 'B8': '2', 'D4': '1', 'C8': '9'},\\\n",
    "               {'B9': '1', 'G1': '3', 'D6': '2', 'F5': '3459', 'A6': '1', 'H2': '1', 'D3': '8', 'F7': '2', 'E8': '13456', 'D9': '6', 'C1': '2', 'E6': '4', 'E4': '5', 'I2': '9', 'C2': '5', 'G4': '6', 'I4': '4', 'G6': '9', 'A5': '2', 'G3': '2', 'D7': '9', 'E3': '9', 'D5': '3456', 'H5': '5', 'E1': '7', 'B3': '7', 'I5': '1', 'B6': '5', 'H4': '2', 'C3': '1', 'D2': '345', 'H3': '4', 'I7': '3', 'H9': '9', 'C9': '3', 'E7': '1', 'A7': '6', 'F6': '8', 'I6': '7', 'A3': '3', 'F3': '6', 'F2': '13459', 'B1': '9', 'H1': '8', 'C7': '4', 'A8': '5', 'I3': '5', 'H7': '7', 'D8': '7', 'E9': '8', 'G8': '1', 'H8': '6', 'G9': '4', 'A4': '9', 'A9': '7', 'C5': '7', 'G5': '8', 'B7': '8', 'B2': '6', 'F9': '5', 'I1': '6', 'C6': '6', 'A2': '8', 'F4': '7', 'G7': '5', 'D1': '5', 'G2': '7', 'F1': '1', 'I9': '2', 'H6': '3', 'I8': '8', 'E5': '34569', 'B4': '3', 'B5': '4', 'A1': '4', 'C4': '8', 'F8': '1345', 'E2': '2', 'B8': '2', 'D4': '1', 'C8': '9'}]:\n",
    "    display(only_choice(values))\n",
    "    print('')\n"
   ]
  },
  {
   "cell_type": "markdown",
   "metadata": {},
   "source": [
    "# Constraint Propagation\n",
    "\n",
    "The constrataint propagation techniques is an AI techinique where local constraints in the problem space are applied repeatedly. With each constraint enforced new constraints are generated and the space can be reduced even further.\n",
    "\n",
    "We'll apply this technique to try solving the Sudoku problem."
   ]
  },
  {
   "cell_type": "code",
   "execution_count": 74,
   "metadata": {},
   "outputs": [
    {
     "name": "stdout",
     "output_type": "stream",
     "text": [
      "4 8 3 |9 2 1 |6 5 7 \n",
      "9 6 7 |3 4 5 |8 2 1 \n",
      "2 5 1 |8 7 6 |4 9 3 \n",
      "------+------+------\n",
      "5 4 8 |1 3 2 |9 7 6 \n",
      "7 2 9 |5 6 4 |1 3 8 \n",
      "1 3 6 |7 9 8 |2 4 5 \n",
      "------+------+------\n",
      "3 7 2 |6 8 9 |5 1 4 \n",
      "8 1 4 |2 5 3 |7 6 9 \n",
      "6 9 5 |4 1 7 |3 8 2 \n"
     ]
    }
   ],
   "source": [
    "def reduce_puzzle(values):\n",
    "    stalled = False\n",
    "    while not stalled:\n",
    "        # Check how many boxes have a determined value\n",
    "        solved_values_before = len([box for box in values.keys() if len(values[box]) == 1])\n",
    "\n",
    "        # Your code here: Use the Eliminate Strategy\n",
    "        solved_values_after = eliminate(values)\n",
    "        \n",
    "        # Your code here: Use the Only Choice Strategy\n",
    "        solved_values_after = only_choice(values)\n",
    "\n",
    "        # Check how many boxes have a determined value, to compare\n",
    "        solved_values_after = len([box for box in values.keys() if len(values[box]) == 1])\n",
    "        # If no new values were added, stop the loop.\n",
    "        stalled = solved_values_before == solved_values_after\n",
    "        # Sanity check, return False if there is a box with zero available values:\n",
    "        if len([box for box in values.keys() if len(values[box]) == 0]):\n",
    "            return False\n",
    "    return values\n",
    "\n",
    "grid = '..3.2.6..9..3.5..1..18.64....81.29..7.......8..67.82....26.95..8..2.3..9..5.1.3..'\n",
    "display(reduce_puzzle(grid_values(grid)))"
   ]
  },
  {
   "cell_type": "markdown",
   "metadata": {},
   "source": [
    "For the first given Sudoku problem a valid solution was found.\n",
    "Now let's try for a harder problem:"
   ]
  },
  {
   "cell_type": "code",
   "execution_count": 39,
   "metadata": {},
   "outputs": [
    {
     "name": "stdout",
     "output_type": "stream",
     "text": [
      "   4      1679   12679  |  139     2369    269   |   8      1239     5    \n",
      " 26789     3    1256789 | 14589   24569   245689 | 12679    1249   124679 \n",
      "  2689   15689   125689 |   7     234569  245689 | 12369   12349   123469 \n",
      "------------------------+------------------------+------------------------\n",
      "  3789     2     15789  |  3459   34579    4579  | 13579     6     13789  \n",
      "  3679   15679   15679  |  359      8     25679  |   4     12359   12379  \n",
      " 36789     4     56789  |  359      1     25679  | 23579   23589   23789  \n",
      "------------------------+------------------------+------------------------\n",
      "  289      89     289   |   6      459      3    |  1259     7     12489  \n",
      "   5      6789     3    |   2      479      1    |   69     489     4689  \n",
      "   1      6789     4    |  589     579     5789  | 23569   23589   23689  \n"
     ]
    }
   ],
   "source": [
    "grid2 = '4.....8.5.3..........7......2.....6.....8.4......1.......6.3.7.5..2.....1.4......'\n",
    "display(reduce_puzzle(grid_values(grid2)))"
   ]
  },
  {
   "cell_type": "markdown",
   "metadata": {},
   "source": [
    "# Depth First Search\n",
    "\n",
    "Once we reach a stallment in the `reduce_puzzle()` without finding a solution to the problem we'll need to apply a differnte technique to get out of this stallment."
   ]
  },
  {
   "cell_type": "code",
   "execution_count": 25,
   "metadata": {},
   "outputs": [
    {
     "data": {
      "text/html": [
       "<iframe width=\"800\" height=\"450\" src=\"https://www.youtube.com/embed/omveZu2gRLs\" frameborder=\"0\" gesture=\"media\" allow=\"encrypted-media\" allowfullscreen></iframe>"
      ],
      "text/plain": [
       "<IPython.core.display.HTML object>"
      ]
     },
     "execution_count": 25,
     "metadata": {},
     "output_type": "execute_result"
    }
   ],
   "source": [
    "from IPython.display import HTML\n",
    "HTML('<iframe width=\"800\" height=\"450\" src=\"https://www.youtube.com/embed/omveZu2gRLs\" frameborder=\"0\" gesture=\"media\" allow=\"encrypted-media\" allowfullscreen></iframe>')"
   ]
  },
  {
   "cell_type": "markdown",
   "metadata": {},
   "source": [
    "We'll now implement this version of the **Depth First Search** algorithm for Sudoku."
   ]
  },
  {
   "cell_type": "code",
   "execution_count": 75,
   "metadata": {},
   "outputs": [
    {
     "name": "stdout",
     "output_type": "stream",
     "text": [
      "4 1 7 |3 6 9 |8 2 5 \n",
      "6 3 2 |1 5 8 |9 4 7 \n",
      "9 5 8 |7 2 4 |3 1 6 \n",
      "------+------+------\n",
      "8 2 5 |4 3 7 |1 6 9 \n",
      "7 9 1 |5 8 6 |4 3 2 \n",
      "3 4 6 |9 1 2 |7 5 8 \n",
      "------+------+------\n",
      "2 8 9 |6 4 3 |5 7 1 \n",
      "5 7 3 |2 9 1 |6 8 4 \n",
      "1 6 4 |8 7 5 |2 9 3 \n"
     ]
    }
   ],
   "source": [
    "def search(values, iteration):\n",
    "    values = reduce_puzzle(values)\n",
    "\n",
    "    if values is False:\n",
    "        return False\n",
    "    \n",
    "    if all(len(values[s]) == 1 for s in boxes):\n",
    "        return values\n",
    "    \n",
    "    shortestKey = ''\n",
    "    shortestLen = None\n",
    "    for key in values.keys():\n",
    "        if len(values[key])>1 and (shortestLen == None or len(values[key]) < shortestLen):\n",
    "            shortestKey = key\n",
    "            shortestLen = len(values[key])\n",
    "        \n",
    "    for v in list(values[shortestKey]):\n",
    "        _values = values.copy()\n",
    "        _values[shortestKey] = v        \n",
    "        _values = search(_values, iteration+1)\n",
    "        if _values is not False:\n",
    "            return _values\n",
    "    \n",
    "    return False\n",
    "\n",
    "# display(grid_values(grid2))\n",
    "# print('')\n",
    "solution = search(grid_values(grid2), 0)\n",
    "if solution is not False:\n",
    "    display(solution)\n",
    "else:\n",
    "    print('Failed')"
   ]
  }
 ],
 "metadata": {
  "kernelspec": {
   "display_name": "Python 3",
   "language": "python",
   "name": "python3"
  },
  "language_info": {
   "codemirror_mode": {
    "name": "ipython",
    "version": 3
   },
   "file_extension": ".py",
   "mimetype": "text/x-python",
   "name": "python",
   "nbconvert_exporter": "python",
   "pygments_lexer": "ipython3",
   "version": "3.6.3"
  }
 },
 "nbformat": 4,
 "nbformat_minor": 2
}
