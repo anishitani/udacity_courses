{
 "cells": [
  {
   "cell_type": "markdown",
   "metadata": {},
   "source": [
    "# Course information\n",
    "\n",
    "Relevant information for the course.\n",
    "\n",
    "### Student Resource Page\n",
    "https://sites.google.com/knowlabs.com/aind-student-resources/home\n",
    "\n",
    "### Lessons Plan Page\n",
    "https://sites.google.com/knowlabs.com/aind-student-resources/lesson-plans"
   ]
  }
 ],
 "metadata": {
  "kernelspec": {
   "display_name": "Python 3",
   "language": "python",
   "name": "python3"
  },
  "language_info": {
   "codemirror_mode": {
    "name": "ipython",
    "version": 3
   },
   "file_extension": ".py",
   "mimetype": "text/x-python",
   "name": "python",
   "nbconvert_exporter": "python",
   "pygments_lexer": "ipython3",
   "version": "3.6.3"
  }
 },
 "nbformat": 4,
 "nbformat_minor": 2
}
